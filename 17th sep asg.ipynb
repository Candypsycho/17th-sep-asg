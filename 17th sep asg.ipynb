{
 "cells": [
  {
   "cell_type": "code",
   "execution_count": 1,
   "id": "a6d96090-35a7-4cad-9f01-63887d09d1bd",
   "metadata": {},
   "outputs": [
    {
     "name": "stdout",
     "output_type": "stream",
     "text": [
      "1\n",
      "2\n",
      "3\n",
      "4\n",
      "5\n",
      "6\n",
      "7\n",
      "8\n",
      "9\n",
      "10\n"
     ]
    }
   ],
   "source": [
    "#1\n",
    "for i in range(1,11):\n",
    "    print(i)"
   ]
  },
  {
   "cell_type": "code",
   "execution_count": 54,
   "id": "26b3637e-07a7-41bf-9384-1ccdc2125c06",
   "metadata": {},
   "outputs": [
    {
     "data": {
      "text/plain": [
       "'Both for loop and while loop is used to execute the statements repeatedly while the program runs. The major difference between for loop and the while loop is that for loop is used when the number of iterations is known, whereas execution is done in the while loop until the statement in the program is proved wrong.'"
      ]
     },
     "execution_count": 54,
     "metadata": {},
     "output_type": "execute_result"
    }
   ],
   "source": [
    "#2\n",
    "\"Both for loop and while loop is used to execute the statements repeatedly while the program runs. The major difference between for loop and the while loop is that for loop is used when the number of iterations is known, whereas execution is done in the while loop until the statement in the program is proved wrong.\""
   ]
  },
  {
   "cell_type": "code",
   "execution_count": 2,
   "id": "64ae0acc-157b-483e-9d9a-bb58a3c4cd44",
   "metadata": {},
   "outputs": [
    {
     "name": "stdout",
     "output_type": "stream",
     "text": [
      "5050\n"
     ]
    }
   ],
   "source": [
    "#3\n",
    "sum=0\n",
    "for i in range(1,101):\n",
    "     \n",
    "    sum=sum+i\n",
    "print(sum)"
   ]
  },
  {
   "cell_type": "code",
   "execution_count": 4,
   "id": "af9cdeac-ce78-403f-8bd1-73f40ba8e560",
   "metadata": {},
   "outputs": [
    {
     "name": "stdout",
     "output_type": "stream",
     "text": [
      "1\n",
      "2\n",
      "3\n",
      "4\n",
      "5\n"
     ]
    }
   ],
   "source": [
    "#4\n",
    "my_list = [1, 2, 3, 4, 5]\n",
    "for item in my_list:\n",
    "    print(item)\n"
   ]
  },
  {
   "cell_type": "code",
   "execution_count": 5,
   "id": "e9e9e0a0-f5bb-4020-a8c2-2a5d04284e73",
   "metadata": {},
   "outputs": [
    {
     "name": "stdout",
     "output_type": "stream",
     "text": [
      "Product of elements in the list: 120\n"
     ]
    }
   ],
   "source": [
    "#5\n",
    "my_list = [2, 3, 4, 5]\n",
    "product_result = 1\n",
    "\n",
    "for element in my_list:\n",
    "    product_result *= element\n",
    "\n",
    "print(\"Product of elements in the list:\", product_result)\n",
    "\n"
   ]
  },
  {
   "cell_type": "code",
   "execution_count": 7,
   "id": "4b983a8f-3f01-4032-abb5-2b4c759d5d59",
   "metadata": {},
   "outputs": [
    {
     "name": "stdout",
     "output_type": "stream",
     "text": [
      "number of even numbers are : 9\n",
      "number of odd numbers are : 10\n"
     ]
    }
   ],
   "source": [
    "#6\n",
    "count_even=0\n",
    "count_odd=0\n",
    "for i in range(1,20):\n",
    "    if i%2==0:\n",
    "        count_even +=1\n",
    "    else:\n",
    "        count_odd +=1\n",
    "print(\"number of even numbers are :\",count_even)\n",
    "print(\"number of odd numbers are :\",count_odd)\n"
   ]
  },
  {
   "cell_type": "code",
   "execution_count": 8,
   "id": "5a6260fb-4e20-4cf7-ad68-d776a7416948",
   "metadata": {},
   "outputs": [
    {
     "name": "stdin",
     "output_type": "stream",
     "text": [
      "enter a number for which you are looking for 5\n"
     ]
    },
    {
     "name": "stdout",
     "output_type": "stream",
     "text": [
      "factorial of a given number is : 120\n"
     ]
    }
   ],
   "source": [
    "#7\n",
    "n=int(input(\"enter a number for which you are looking for\"))\n",
    "fact=1\n",
    "if n>=1:\n",
    "    for i in range(1,n+1):\n",
    "        fact=fact*i\n",
    "    print(\"factorial of a given number is :\",fact)"
   ]
  },
  {
   "cell_type": "code",
   "execution_count": 10,
   "id": "694a0ac4-f74d-427a-9717-e0e1b6c92f4b",
   "metadata": {},
   "outputs": [
    {
     "name": "stdout",
     "output_type": "stream",
     "text": [
      "h  e  l  l  o     w  o  r  l  d  "
     ]
    }
   ],
   "source": [
    "#8\n",
    "string_=\"hello world\"\n",
    "for char in string_:\n",
    "    print(char,end='  ')"
   ]
  },
  {
   "cell_type": "code",
   "execution_count": 11,
   "id": "c6731e0b-6df5-4bf7-aacf-6e7a6a92e8e8",
   "metadata": {},
   "outputs": [
    {
     "name": "stdout",
     "output_type": "stream",
     "text": [
      "greatest number is : 889\n"
     ]
    }
   ],
   "source": [
    "#9\n",
    "list1=[2,3,4,5,6,7,8,7,889,90]\n",
    "maxi=list1[0]\n",
    "for i in list1:\n",
    "    if i>maxi:\n",
    "        maxi=i\n",
    "print(\"greatest number is :\", maxi)"
   ]
  },
  {
   "cell_type": "code",
   "execution_count": 1,
   "id": "67d15e61-260a-4285-a1ae-c877e3c80159",
   "metadata": {},
   "outputs": [
    {
     "name": "stdout",
     "output_type": "stream",
     "text": [
      "1\n",
      "2\n",
      "3\n",
      "5\n",
      "8\n",
      "13\n",
      "21\n",
      "34\n",
      "55\n",
      "89\n"
     ]
    }
   ],
   "source": [
    "#10\n",
    "a=0\n",
    "b=1\n",
    "for i in range(10):\n",
    "    c=a+b\n",
    "    a=b\n",
    "    b=c\n",
    "    print(c)"
   ]
  },
  {
   "cell_type": "code",
   "execution_count": 8,
   "id": "b060cf66-a37a-4455-b503-5892d05e6f5f",
   "metadata": {},
   "outputs": [
    {
     "name": "stdin",
     "output_type": "stream",
     "text": [
      "enterr any character welcome to kashmir\n"
     ]
    },
    {
     "name": "stdout",
     "output_type": "stream",
     "text": [
      "6\n"
     ]
    }
   ],
   "source": [
    "#11\n",
    "string_=input(\"enterr any character\")\n",
    "vowels='aeiouAEIOU'\n",
    "count=sum(string_.count(vowel)for vowel in vowels)\n",
    "print(count)"
   ]
  },
  {
   "cell_type": "code",
   "execution_count": 9,
   "id": "75f6a2db-8fda-43cd-b23d-e75fc823dea1",
   "metadata": {},
   "outputs": [
    {
     "name": "stdin",
     "output_type": "stream",
     "text": [
      "enter a number 4\n"
     ]
    },
    {
     "name": "stdout",
     "output_type": "stream",
     "text": [
      "4 x 1 = 4\n",
      "4 x 2 = 8\n",
      "4 x 3 = 12\n",
      "4 x 4 = 16\n",
      "4 x 5 = 20\n",
      "4 x 6 = 24\n",
      "4 x 7 = 28\n",
      "4 x 8 = 32\n",
      "4 x 9 = 36\n",
      "4 x 10 = 40\n"
     ]
    }
   ],
   "source": [
    "#12\n",
    "n=int(input(\"enter a number\"))\n",
    "for i in range(1,11):\n",
    "    print(n,'x',i,'=',n*i)"
   ]
  },
  {
   "cell_type": "code",
   "execution_count": 13,
   "id": "5e915b88-a8b6-4a9a-be91-79089d038ba4",
   "metadata": {},
   "outputs": [
    {
     "name": "stdout",
     "output_type": "stream",
     "text": [
      "[5, 4, 3, 2, 1]\n"
     ]
    }
   ],
   "source": [
    "#13\n",
    "def reversed_list(l):\n",
    "    list1=[]\n",
    "    for i in range(len(l)-1,-1,-1):\n",
    "        list1.append(l[i])\n",
    "    return list1\n",
    "l=[1,2,3,4,5]\n",
    "list1=reversed_list(l)\n",
    "print(list1)"
   ]
  },
  {
   "cell_type": "code",
   "execution_count": 16,
   "id": "d91d7fd9-4e5b-40d4-9d30-83758f10a67c",
   "metadata": {},
   "outputs": [
    {
     "name": "stdout",
     "output_type": "stream",
     "text": [
      "[3, 4, 5]\n"
     ]
    }
   ],
   "source": [
    "#14\n",
    "def common_elements(list1,list2):\n",
    "    common_elements=[]\n",
    "    for ele in list1:\n",
    "        if ele in list2:\n",
    "            common_elements.append(ele)\n",
    "    return common_elements\n",
    "list1=[1,2,3,4,5]\n",
    "list2=[3,4,5,6,7]\n",
    "\n",
    "common_elements=common_elements(list1,list2)\n",
    "print(common_elements)"
   ]
  },
  {
   "cell_type": "code",
   "execution_count": 56,
   "id": "576fe064-66ce-4d0f-b4ba-4fd7329753d7",
   "metadata": {},
   "outputs": [
    {
     "name": "stdout",
     "output_type": "stream",
     "text": [
      "name\n",
      "course\n",
      "mobile_no\n"
     ]
    }
   ],
   "source": [
    "#15\n",
    "dict={\"name\":\"syed mansoor\",\"course\":\"full stack data science pro\",\"mobile_no\":53453}\n",
    "for key in dict.keys():\n",
    "    print(key)\n"
   ]
  },
  {
   "cell_type": "code",
   "execution_count": 99,
   "id": "f27155d8-da57-4271-bd1a-012e13823c1d",
   "metadata": {},
   "outputs": [
    {
     "name": "stdin",
     "output_type": "stream",
     "text": [
      "Enter the first number:  12\n",
      "Enter the second number:  21\n"
     ]
    },
    {
     "name": "stdout",
     "output_type": "stream",
     "text": [
      "The GCD of 12 and 21 is: 3\n"
     ]
    }
   ],
   "source": [
    "#16\n",
    "def find_gcd(num1, num2):\n",
    "    for i in range(min(num1, num2), 0, -1):\n",
    "        if num1 % i == 0 and num2 % i == 0:\n",
    "            return i\n",
    "num1 = int(input(\"Enter the first number: \"))\n",
    "num2 = int(input(\"Enter the second number: \"))\n",
    "gcd = find_gcd(num1, num2)\n",
    "print(f\"The GCD of {num1} and {num2} is: {gcd}\")\n"
   ]
  },
  {
   "cell_type": "code",
   "execution_count": 100,
   "id": "4ea7da28-e771-45d5-9a31-18722076ddeb",
   "metadata": {},
   "outputs": [
    {
     "name": "stdin",
     "output_type": "stream",
     "text": [
      "Enter a string:  madam\n"
     ]
    },
    {
     "name": "stdout",
     "output_type": "stream",
     "text": [
      "madam is a palindrome.\n"
     ]
    }
   ],
   "source": [
    "#17\n",
    "def is_palindrome(s):\n",
    "    length = len(s)\n",
    "    for i in range(length // 2):\n",
    "        if s[i] != s[length - i - 1]:\n",
    "            return False\n",
    "    return True\n",
    "string = input(\"Enter a string: \")\n",
    "if is_palindrome(string):\n",
    "    print(f\"{string} is a palindrome.\")\n",
    "else:\n",
    "    print(f\"{string} is not a palindrome.\")\n"
   ]
  },
  {
   "cell_type": "code",
   "execution_count": 108,
   "id": "884a357b-2760-4286-bcae-2d963ed6ba3d",
   "metadata": {},
   "outputs": [
    {
     "name": "stdin",
     "output_type": "stream",
     "text": [
      "Enter a list of elements separated by spaces:  1 2 3 3 2 4 5 6 6\n"
     ]
    },
    {
     "name": "stdout",
     "output_type": "stream",
     "text": [
      "List after removing duplicates: ['1', '2', '3', '4', '5', '6']\n"
     ]
    }
   ],
   "source": [
    "#18\n",
    "def remove_duplicates(input_list):\n",
    "    unique_list = []\n",
    "    for item in input_list:\n",
    "        if item not in unique_list:\n",
    "            unique_list.append(item)\n",
    "    return unique_list\n",
    "input_list = input(\"Enter a list of elements separated by spaces: \").split()\n",
    "result_list = remove_duplicates(input_list)\n",
    "print(\"List after removing duplicates:\", result_list)\n",
    "\n"
   ]
  },
  {
   "cell_type": "code",
   "execution_count": 102,
   "id": "9b3816ea-72ce-4dc7-9dac-4322d4045051",
   "metadata": {},
   "outputs": [
    {
     "name": "stdin",
     "output_type": "stream",
     "text": [
      "Enter a sentence:  pwskills is very very good\n"
     ]
    },
    {
     "name": "stdout",
     "output_type": "stream",
     "text": [
      "The sentence has 5 words.\n"
     ]
    }
   ],
   "source": [
    "#19\n",
    "def count_words(sentence):\n",
    "    count = 0\n",
    "    for char in sentence:\n",
    "        if char.isspace():\n",
    "            count += 1\n",
    "    return count + 1\n",
    "sentence = input(\"Enter a sentence: \")\n",
    "word_count = count_words(sentence)\n",
    "print(f\"The sentence has {word_count} words.\")\n"
   ]
  },
  {
   "cell_type": "code",
   "execution_count": 103,
   "id": "7c6bcfd9-1f3d-46f6-aa97-5f7c48572f78",
   "metadata": {},
   "outputs": [
    {
     "name": "stdout",
     "output_type": "stream",
     "text": [
      "The sum of odd numbers from 1 to 50 is: 625\n"
     ]
    }
   ],
   "source": [
    "#20\n",
    "sum_odd = 0\n",
    "for num in range(1, 51, 2):\n",
    "    sum_odd += num\n",
    "print(f\"The sum of odd numbers from 1 to 50 is: {sum_odd}\")\n"
   ]
  },
  {
   "cell_type": "code",
   "execution_count": 104,
   "id": "4f915c6e-b87b-4bcc-aac6-71c399a57941",
   "metadata": {},
   "outputs": [
    {
     "name": "stdin",
     "output_type": "stream",
     "text": [
      "Enter a year:  2020\n"
     ]
    },
    {
     "name": "stdout",
     "output_type": "stream",
     "text": [
      "2020 is a leap year.\n"
     ]
    }
   ],
   "source": [
    "#21\n",
    "def is_leap_year(year):\n",
    "    for i in range(4, 0, -1):\n",
    "        if (year % i == 0 and year % 100 != 0) or (year % 400 == 0):\n",
    "            return True\n",
    "    return False\n",
    "year = int(input(\"Enter a year: \"))\n",
    "if is_leap_year(year):\n",
    "    print(f\"{year} is a leap year.\")\n",
    "else:\n",
    "    print(f\"{year} is not a leap year.\")\n"
   ]
  },
  {
   "cell_type": "code",
   "execution_count": 105,
   "id": "6342b878-6e18-4526-8fd3-d7c2de2a3592",
   "metadata": {},
   "outputs": [
    {
     "name": "stdin",
     "output_type": "stream",
     "text": [
      "Enter a number:  56.65\n"
     ]
    },
    {
     "name": "stdout",
     "output_type": "stream",
     "text": [
      "The square root of 56.65 is approximately: 7.526619427073485\n"
     ]
    }
   ],
   "source": [
    "#22\n",
    "def square_root(number):\n",
    "    if number < 0:\n",
    "        return \"Cannot calculate square root of a negative number.\"\n",
    "    guess = number\n",
    "    epsilon = 1e-15  \n",
    "    for _ in range(100): \n",
    "        guess = (guess + number / guess) / 2\n",
    "    return guess\n",
    "number = float(input(\"Enter a number: \"))\n",
    "result = square_root(number)\n",
    "print(f\"The square root of {number} is approximately: {result}\")\n"
   ]
  },
  {
   "cell_type": "code",
   "execution_count": 106,
   "id": "36966ed2-6799-438f-bb07-49bcaf116d68",
   "metadata": {},
   "outputs": [
    {
     "name": "stdin",
     "output_type": "stream",
     "text": [
      "Enter the first number:  23\n",
      "Enter the second number:  21\n"
     ]
    },
    {
     "name": "stdout",
     "output_type": "stream",
     "text": [
      "The LCM of 23 and 21 is: 483\n"
     ]
    }
   ],
   "source": [
    "#23\n",
    "def find_lcm(num1, num2):\n",
    "    greater = max(num1, num2)\n",
    "    for i in range(greater, num1 * num2 + 1, greater):\n",
    "        if i % num1 == 0 and i % num2 == 0:\n",
    "            return i\n",
    "num1 = int(input(\"Enter the first number: \"))\n",
    "num2 = int(input(\"Enter the second number: \"))\n",
    "lcm = find_lcm(num1, num2)\n",
    "print(f\"The LCM of {num1} and {num2} is: {lcm}\")\n"
   ]
  },
  {
   "cell_type": "markdown",
   "id": "bd7f1f0d-3959-4949-88c9-b237051ba6df",
   "metadata": {},
   "source": [
    "## if else"
   ]
  },
  {
   "cell_type": "code",
   "execution_count": 58,
   "id": "304ed874-fd50-4c17-82c9-a4826736daa8",
   "metadata": {},
   "outputs": [
    {
     "name": "stdin",
     "output_type": "stream",
     "text": [
      "enter a number to check whether it is positive or negative 6\n"
     ]
    },
    {
     "name": "stdout",
     "output_type": "stream",
     "text": [
      "positive number\n"
     ]
    }
   ],
   "source": [
    "#1\n",
    "n=int(input(\"enter a number to check whether it is positive or negative\"))\n",
    "if n>=0:\n",
    "    print(\"positive number\")\n",
    "elif n==0:\n",
    "    print(\"zero\")\n",
    "else:\n",
    "    print(\"negative number\")"
   ]
  },
  {
   "cell_type": "code",
   "execution_count": 60,
   "id": "25835d86-7426-493b-8117-22978017fc10",
   "metadata": {},
   "outputs": [
    {
     "name": "stdout",
     "output_type": "stream",
     "text": [
      "even numbers  [2, 4, 6, 8, 10, 12, 14, 16, 18]\n",
      "odd number is [1, 3, 5, 7, 9, 11, 13, 15, 17, 19]\n"
     ]
    }
   ],
   "source": [
    "#2\n",
    "count_even=[]\n",
    "count_odd=[]\n",
    "\n",
    "for i in range(1,20):\n",
    "    if i%2==0:\n",
    "        count_even.append(i)\n",
    "    else:\n",
    "        count_odd.append(i)\n",
    "print(\"even numbers \",count_even)\n",
    "print(\"odd number is\",count_odd)"
   ]
  },
  {
   "cell_type": "code",
   "execution_count": 61,
   "id": "f81979f1-750e-472e-afe1-529eddb9d977",
   "metadata": {},
   "outputs": [
    {
     "name": "stdin",
     "output_type": "stream",
     "text": [
      "Enter the first number:  10\n",
      "Enter the second number:  12\n",
      "Enter the third number:  20\n"
     ]
    },
    {
     "name": "stdout",
     "output_type": "stream",
     "text": [
      "The largest number is: 20\n"
     ]
    }
   ],
   "source": [
    "#3\n",
    "\"Nested if-else statements are if-else statements that are used within another if-else statement. They can be used to make more complex decisions.\"\n",
    "num1 = int(input(\"Enter the first number: \"))\n",
    "num2 = int(input(\"Enter the second number: \"))\n",
    "num3 = int(input(\"Enter the third number: \"))\n",
    "if num1 >= num2:\n",
    "    if num1 >= num3:\n",
    "        largest = num1\n",
    "    else:\n",
    "        largest = num3\n",
    "else:\n",
    "    if num2 >= num3:\n",
    "        largest = num2\n",
    "    else:\n",
    "        largest = num3\n",
    "\n",
    "print(\"The largest number is:\", largest)\n"
   ]
  },
  {
   "cell_type": "code",
   "execution_count": 64,
   "id": "a1de75dc-dfc6-4f35-8396-f00be979e4a0",
   "metadata": {},
   "outputs": [
    {
     "name": "stdin",
     "output_type": "stream",
     "text": [
      "Enter the first number:  10\n",
      "Enter the second number:  12\n",
      "Enter the third number:  23\n"
     ]
    },
    {
     "name": "stdout",
     "output_type": "stream",
     "text": [
      "The largest number is: 23\n"
     ]
    }
   ],
   "source": [
    "# 4\n",
    "num1 = int(input(\"Enter the first number: \"))\n",
    "num2 = int(input(\"Enter the second number: \"))\n",
    "num3 = int(input(\"Enter the third number: \"))\n",
    "if num1 >= num2:\n",
    "    if num1 >= num3:\n",
    "        largest = num1\n",
    "    else:\n",
    "        largest = num3\n",
    "else:\n",
    "    if num2 >= num3:\n",
    "        largest = num2\n",
    "    else:\n",
    "        largest = num3\n",
    "print(\"The largest number is:\", largest)\n"
   ]
  },
  {
   "cell_type": "code",
   "execution_count": 66,
   "id": "70de46da-6add-4a88-aaad-aec7c4e28c4d",
   "metadata": {},
   "outputs": [
    {
     "name": "stdin",
     "output_type": "stream",
     "text": [
      "Enter a number:  23\n"
     ]
    },
    {
     "name": "stdout",
     "output_type": "stream",
     "text": [
      "The absolute value of the number is: 23.0\n"
     ]
    }
   ],
   "source": [
    "#5\n",
    "number = float(input(\"Enter a number: \"))\n",
    "if number >= 0:\n",
    "    absolute_value = number\n",
    "else:\n",
    "    absolute_value = -number\n",
    "\n",
    "print(\"The absolute value of the number is:\", absolute_value)\n"
   ]
  },
  {
   "cell_type": "code",
   "execution_count": 68,
   "id": "8fed7f45-a011-4573-a707-1346e1411dab",
   "metadata": {},
   "outputs": [
    {
     "name": "stdin",
     "output_type": "stream",
     "text": [
      "enter a word pwskills\n"
     ]
    },
    {
     "name": "stdout",
     "output_type": "stream",
     "text": [
      "pwskills is a vowel\n"
     ]
    }
   ],
   "source": [
    "#6\n",
    "char=input(\"enter a word\")\n",
    "if(char=='a',char=='e',char=='i',char=='o',char=='u'):\n",
    "    print(char ,\"is a vowel\")\n",
    "else:\n",
    "    print(char,\"is a consonant\")"
   ]
  },
  {
   "cell_type": "code",
   "execution_count": 69,
   "id": "d5d79514-d0db-4a53-acbb-06f0bf9b35f3",
   "metadata": {},
   "outputs": [
    {
     "name": "stdin",
     "output_type": "stream",
     "text": [
      "enter your age 18\n"
     ]
    },
    {
     "name": "stdout",
     "output_type": "stream",
     "text": [
      "you can vote\n"
     ]
    }
   ],
   "source": [
    "#7\n",
    "age=int(input(\"enter your age\"))\n",
    "if age>=18:\n",
    "    print(\"you can vote\")\n",
    "else:\n",
    "    print(\"you can't vote\")"
   ]
  },
  {
   "cell_type": "code",
   "execution_count": 70,
   "id": "39551f21-3d2f-448c-a058-914eef61ae90",
   "metadata": {},
   "outputs": [
    {
     "name": "stdout",
     "output_type": "stream",
     "text": [
      "Discounted Price: 480.00\n"
     ]
    }
   ],
   "source": [
    "#8\n",
    "def calculate_discounted_price(amount):\n",
    "    if amount < 100:\n",
    "        discount = 0\n",
    "    elif amount < 500:\n",
    "        discount = 0.1\n",
    "    elif amount < 1000:\n",
    "        discount = 0.2\n",
    "    else:\n",
    "        discount = 0.3\n",
    "\n",
    "    discounted_price = amount - (amount * discount)\n",
    "    print(f\"Discounted Price: {discounted_price:.2f}\")\n",
    "calculate_discounted_price(600)\n"
   ]
  },
  {
   "cell_type": "code",
   "execution_count": 71,
   "id": "20698dd7-6d50-4ddf-b8f0-cc72126bd3ae",
   "metadata": {},
   "outputs": [
    {
     "name": "stdin",
     "output_type": "stream",
     "text": [
      "Enter a number:  19\n"
     ]
    },
    {
     "name": "stdout",
     "output_type": "stream",
     "text": [
      "The number is not within the range.\n"
     ]
    }
   ],
   "source": [
    "#9\n",
    "\n",
    "number = int(input(\"Enter a number: \"))\n",
    "if number >= 1 and number <= 10:\n",
    "    print(\"The number is within the range.\")\n",
    "else:\n",
    "    print(\"The number is not within the range.\")"
   ]
  },
  {
   "cell_type": "code",
   "execution_count": 72,
   "id": "c017d88c-bec1-4e43-8cb6-88d2b1423e21",
   "metadata": {},
   "outputs": [
    {
     "name": "stdin",
     "output_type": "stream",
     "text": [
      "enter your score 78\n"
     ]
    },
    {
     "name": "stdout",
     "output_type": "stream",
     "text": [
      "grade a\n"
     ]
    }
   ],
   "source": [
    "\n",
    "#10\n",
    "score=int(input(\"enter your score\"))\n",
    "\n",
    "if score>=80:\n",
    "    print(\"distinction\")\n",
    "\n",
    "elif score>=60:\n",
    "    print(\"grade a\")\n",
    "\n",
    "elif score>=40:\n",
    "    print(\"grade b\")\n",
    "\n",
    "else:\n",
    "    print(\"fail\")"
   ]
  },
  {
   "cell_type": "code",
   "execution_count": 73,
   "id": "ea5e3cc0-692c-42ec-b2a3-0b4c7e8a1884",
   "metadata": {},
   "outputs": [
    {
     "name": "stdin",
     "output_type": "stream",
     "text": [
      "Enter a string:  pwskills\n"
     ]
    },
    {
     "name": "stdout",
     "output_type": "stream",
     "text": [
      "The string is not empty.\n"
     ]
    }
   ],
   "source": [
    "#11\n",
    "\n",
    "string = input(\"Enter a string: \")\n",
    "\n",
    "if len(string) == 0:\n",
    "    print(\"The string is empty.\")\n",
    "else:\n",
    "    print(\"The string is not empty.\")"
   ]
  },
  {
   "cell_type": "code",
   "execution_count": 74,
   "id": "26e6aedf-e2f0-44df-8050-fe4017a7f545",
   "metadata": {},
   "outputs": [
    {
     "name": "stdin",
     "output_type": "stream",
     "text": [
      "x:  6\n",
      "y:  6\n",
      "z:  6\n"
     ]
    },
    {
     "name": "stdout",
     "output_type": "stream",
     "text": [
      "equitorial triangle\n"
     ]
    }
   ],
   "source": [
    "#12\n",
    "x=int(input(\"x: \"))\n",
    "y=int(input(\"y: \"))\n",
    "z=int(input(\"z: \"))\n",
    "if x==y==z:\n",
    "    print(\"equitorial triangle\")\n",
    "elif x==y or y==z or z==x:\n",
    "    print(\"isosceles triangle\")\n",
    "else:\n",
    "    print(\"scalene triangle\")"
   ]
  },
  {
   "cell_type": "code",
   "execution_count": 76,
   "id": "4652a800-9333-4791-90cc-43f8bcb0ab78",
   "metadata": {},
   "outputs": [
    {
     "name": "stdout",
     "output_type": "stream",
     "text": [
      "The day is Wednesday.\n"
     ]
    }
   ],
   "source": [
    "#13\n",
    "def day_of_week(day_number):\n",
    "    days = [\"Monday\", \"Tuesday\", \"Wednesday\", \"Thursday\", \"Friday\", \"Saturday\", \"Sunday\"]\n",
    "    if 1 <= day_number <= 7:\n",
    "        return days[day_number - 1]\n",
    "    else:\n",
    "        return \"Invalid day number\"\n",
    "user_day_number = 3\n",
    "result = day_of_week(user_day_number)\n",
    "print(f\"The day is {result}.\")"
   ]
  },
  {
   "cell_type": "code",
   "execution_count": 77,
   "id": "bf0b914b-fe8a-4f92-8b4e-204f6c9c1eaf",
   "metadata": {},
   "outputs": [
    {
     "name": "stdout",
     "output_type": "stream",
     "text": [
      "2000 is a leap year and evenly divisible by 400.\n"
     ]
    }
   ],
   "source": [
    "#14\n",
    "def is_leap_year(year):\n",
    "    if (year % 4 == 0 and year % 100 != 0) or (year % 400 == 0):\n",
    "        return True\n",
    "    else:\n",
    "        return False\n",
    "year = 2000\n",
    "if is_leap_year(year):\n",
    "    print(f\"{year} is a leap year and evenly divisible by 400.\")\n",
    "else:\n",
    "    print(f\"{year} is not a leap year or not evenly divisible by 400.\")\n"
   ]
  },
  {
   "cell_type": "code",
   "execution_count": 78,
   "id": "a6e05017-30d3-4454-bf2d-2f0a9d5d5e93",
   "metadata": {},
   "outputs": [
    {
     "data": {
      "text/plain": [
       "'The assert statement in Python can be used to add debugging checks within if-else blocks. The syntax for using assert statements in Python is:\\nassert <condition>, <message>\\nUse code with caution.\\nLearn more\\nThe condition is a boolean expression that is evaluated. If the condition is true, the program continues executing. If the condition is false, an AssertionError exception is raised, with the optional message being printed to the console.'"
      ]
     },
     "execution_count": 78,
     "metadata": {},
     "output_type": "execute_result"
    }
   ],
   "source": [
    "#15\n",
    "\"\"\"The assert statement in Python can be used to add debugging checks within if-else blocks. The syntax for using assert statements in Python is:\n",
    "assert <condition>, <message>\n",
    "Use code with caution.\n",
    "Learn more\n",
    "The condition is a boolean expression that is evaluated. If the condition is true, the program continues executing. If the condition is false, an AssertionError exception is raised, with the optional message being printed to the console.\"\"\""
   ]
  },
  {
   "cell_type": "code",
   "execution_count": 79,
   "id": "cbdda706-f08d-40b2-9a87-835ddab5f6b9",
   "metadata": {},
   "outputs": [
    {
     "name": "stdin",
     "output_type": "stream",
     "text": [
      "Enter your age:  66\n"
     ]
    },
    {
     "name": "stdout",
     "output_type": "stream",
     "text": [
      "You are eligible for a senior citizen discount.\n"
     ]
    }
   ],
   "source": [
    "#16\n",
    "age = int(input(\"Enter your age: \"))\n",
    "if age >= 65:\n",
    "    print(\"You are eligible for a senior citizen discount.\")\n",
    "else:\n",
    "    print(\"You are not eligible for a senior citizen discount.\")"
   ]
  },
  {
   "cell_type": "code",
   "execution_count": 80,
   "id": "c9e7c835-e871-4f5a-ae1f-24c6f75d931a",
   "metadata": {},
   "outputs": [
    {
     "name": "stdin",
     "output_type": "stream",
     "text": [
      "enter any word Pwskills\n"
     ]
    },
    {
     "name": "stdout",
     "output_type": "stream",
     "text": [
      "this character is neither uppercase nor lowercase\n"
     ]
    }
   ],
   "source": [
    "#17\n",
    "char =input(\"enter any word\")\n",
    " \n",
    "if char == char.upper(): \n",
    "\tprint(\"Uppercase\") \n",
    "elif char==char.lower():\n",
    "    print(\"Lowercase\") \n",
    "else:\n",
    "    print(\"this character is neither uppercase nor lowercase\")\n",
    "    \n",
    "\n"
   ]
  },
  {
   "cell_type": "code",
   "execution_count": 81,
   "id": "fb983bce-e40e-4369-beb5-350fd8d926de",
   "metadata": {},
   "outputs": [
    {
     "name": "stdout",
     "output_type": "stream",
     "text": [
      "Root 1: 2.0\n",
      "Root 2: 1.0\n"
     ]
    }
   ],
   "source": [
    "#18\n",
    "import math\n",
    "\n",
    "def calculate_roots(a, b, c):\n",
    "    discriminant = b**2 - 4*a*c\n",
    "    if discriminant >= 0:\n",
    "        root1 = (-b + math.sqrt(discriminant)) / (2*a)\n",
    "        root2 = (-b - math.sqrt(discriminant)) / (2*a)\n",
    "\n",
    "        print(\"Root 1:\", root1)\n",
    "        print(\"Root 2:\", root2)\n",
    "    else:\n",
    "        real_part = -b / (2*a)\n",
    "        imaginary_part = math.sqrt(abs(discriminant)) / (2*a)\n",
    "\n",
    "        root1 = complex(real_part, imaginary_part)\n",
    "        root2 = complex(real_part, -imaginary_part)\n",
    "\n",
    "        print(\"Root 1:\", root1)\n",
    "        print(\"Root 2:\", root2)\n",
    "\n",
    "calculate_roots(1, -3, 2)"
   ]
  },
  {
   "cell_type": "code",
   "execution_count": 87,
   "id": "f10b1d1f-ae86-4c99-9f23-e8eb7ed3722f",
   "metadata": {},
   "outputs": [
    {
     "name": "stdin",
     "output_type": "stream",
     "text": [
      "Enter a year:  2000\n"
     ]
    },
    {
     "name": "stdout",
     "output_type": "stream",
     "text": [
      "The year 2000 is a century year.\n"
     ]
    }
   ],
   "source": [
    "#19\n",
    "def is_century_year(year):\n",
    "    if year % 100 == 0:\n",
    "        return True\n",
    "    else:\n",
    "        return False\n",
    "year = int(input(\"Enter a year: \"))\n",
    "if is_century_year(year):\n",
    "    print(\"The year {} is a century year.\".format(year))\n",
    "else:\n",
    "    print(\"The year {} is not a century year.\".format(year))"
   ]
  },
  {
   "cell_type": "code",
   "execution_count": 93,
   "id": "cb4ae544-c50d-4b3b-af4d-7d99a0151725",
   "metadata": {},
   "outputs": [
    {
     "name": "stdout",
     "output_type": "stream",
     "text": [
      "The number is a perfect square\n"
     ]
    }
   ],
   "source": [
    "#20\n",
    "import math  \n",
    "num = 25  \n",
    "sqrt_num = math.sqrt(num)  \n",
    "if sqrt_num.is_integer():  \n",
    "    print(\"The number is a perfect square\")  \n",
    "else:  \n",
    "    print(\"The number is not a perfect square\")"
   ]
  },
  {
   "cell_type": "code",
   "execution_count": 94,
   "id": "cfc00516-d7ff-4ad1-abbb-addbca4e2afc",
   "metadata": {},
   "outputs": [
    {
     "data": {
      "text/plain": [
       "'The break statement is used to terminate the loop immediately. The continue statement is used to skip the current iteration of the loop.'"
      ]
     },
     "execution_count": 94,
     "metadata": {},
     "output_type": "execute_result"
    }
   ],
   "source": [
    "#21\n",
    "\"The break statement is used to terminate the loop immediately. The continue statement is used to skip the current iteration of the loop.\""
   ]
  },
  {
   "cell_type": "code",
   "execution_count": 96,
   "id": "736315fe-2be6-4bc6-a1c6-98e0533c4430",
   "metadata": {},
   "outputs": [
    {
     "name": "stdin",
     "output_type": "stream",
     "text": [
      "enter your height 1.79832\n",
      "enter your weight 70\n"
     ]
    },
    {
     "name": "stdout",
     "output_type": "stream",
     "text": [
      "your bmi is 216453.24020961815\n"
     ]
    }
   ],
   "source": [
    "#22\n",
    "height=float(input(\"enter your height\"))\n",
    "weight=float(input(\"enter your weight\"))\n",
    "BMI=weight/(height/100)**2\n",
    "if BMI<18.4:\n",
    "    print(\"underweight\")\n",
    "elif BMI>=18.4 and BMI<24.9:\n",
    "    print(\"normal weight\")\n",
    "elif BMI>=24.9 and BMI <29.9:\n",
    "    print(\"overweight\")\n",
    "elif BMI>=30 and BMI==40:\n",
    "    print(\"suffering from obesity\")\n",
    "print(\"your bmi is\",BMI)"
   ]
  },
  {
   "cell_type": "code",
   "execution_count": 97,
   "id": "524c09a0-bd89-4a7d-9063-be30b557d32d",
   "metadata": {},
   "outputs": [
    {
     "data": {
      "text/plain": [
       "\"The filter() function is not typically used directly with if-else statements. It's more commonly used with a function that returns True or False to indicate whether an element should be included in the filtered result. However, if you want to filter elements from a list using if-else conditions, you can achieve this using list comprehensions.\""
      ]
     },
     "execution_count": 97,
     "metadata": {},
     "output_type": "execute_result"
    }
   ],
   "source": [
    "#22\n",
    "\"The filter() function is not typically used directly with if-else statements. It's more commonly used with a function that returns True or False to indicate whether an element should be included in the filtered result. However, if you want to filter elements from a list using if-else conditions, you can achieve this using list comprehensions.\""
   ]
  },
  {
   "cell_type": "code",
   "execution_count": 98,
   "id": "1e8796c6-c11c-4b15-ba0b-5553f70c2ae1",
   "metadata": {},
   "outputs": [
    {
     "name": "stdin",
     "output_type": "stream",
     "text": [
      "Enter a number:  23\n"
     ]
    },
    {
     "name": "stdout",
     "output_type": "stream",
     "text": [
      "23 is a prime number.\n"
     ]
    }
   ],
   "source": [
    "#23\n",
    "def is_prime(num):\n",
    "    if num <= 1:\n",
    "        return False\n",
    "    for i in range(2, int(num**0.5) + 1):\n",
    "        if num % i == 0:\n",
    "            return False\n",
    "    return True\n",
    "number = int(input(\"Enter a number: \"))\n",
    "if is_prime(number):\n",
    "    print(f\"{number} is a prime number.\")\n",
    "else:\n",
    "    print(f\"{number} is not a prime number.\")\n"
   ]
  },
  {
   "cell_type": "code",
   "execution_count": 2,
   "id": "c9f8bb62-5bf8-4a84-99c3-d10938908bec",
   "metadata": {},
   "outputs": [],
   "source": [
    "## map() ##"
   ]
  },
  {
   "cell_type": "markdown",
   "id": "ff8c6b2e-63e4-4554-9912-170a784c95a1",
   "metadata": {},
   "source": [
    "## map() ##"
   ]
  },
  {
   "cell_type": "code",
   "execution_count": 3,
   "id": "ee6a1679-1b3b-494e-8eff-5829c2915a89",
   "metadata": {},
   "outputs": [
    {
     "name": "stdout",
     "output_type": "stream",
     "text": [
      "[1, 4, 9, 16, 25]\n"
     ]
    }
   ],
   "source": [
    "#1\n",
    "###The map() function in Python is used to apply a specified function to all the items in an iterable (e.g., a list) and return an iterator that produces the results. The basic syntax is map(function, iterable). Here's an example that squares each element of a list:\n",
    "\n",
    "# Example 1: Squaring each element of a list using map()\n",
    "numbers = [1, 2, 3, 4, 5]\n",
    "squared_numbers = map(lambda x: x**2, numbers)\n",
    "result = list(squared_numbers)\n",
    "\n",
    "print(result)\n"
   ]
  },
  {
   "cell_type": "code",
   "execution_count": 4,
   "id": "ba641154-ecdf-4f40-a0f6-a4c2e0e4ec39",
   "metadata": {},
   "outputs": [
    {
     "name": "stdout",
     "output_type": "stream",
     "text": [
      "[1, 4, 9, 16, 25]\n"
     ]
    }
   ],
   "source": [
    "#2\n",
    "numbers = [1, 2, 3, 4, 5]\n",
    "squared_numbers = map(lambda x: x**2, numbers)\n",
    "result = list(squared_numbers)\n",
    "\n",
    "print(result)\n"
   ]
  },
  {
   "cell_type": "code",
   "execution_count": 5,
   "id": "df5f69e9-70e9-4b11-923d-22c9fd4d3ceb",
   "metadata": {},
   "outputs": [
    {
     "name": "stdout",
     "output_type": "stream",
     "text": [
      "[1, 4, 9, 16, 25]\n",
      "[1, 4, 9, 16, 25]\n"
     ]
    }
   ],
   "source": [
    "#3\n",
    "#The map() function and list comprehensions can often be used interchangeably, but there are some differences. map() is generally more concise for simple operations and can be more efficient for large datasets. List comprehensions, on the other hand, offer a more readable and expressive syntax\n",
    "#example\n",
    "# Using map()\n",
    "numbers = [1, 2, 3, 4, 5]\n",
    "squared_numbers_map = map(lambda x: x**2, numbers)\n",
    "result_map = list(squared_numbers_map)\n",
    "\n",
    "# Using list comprehension\n",
    "result_list_comp = [x**2 for x in numbers]\n",
    "\n",
    "print(result_map)\n",
    "print(result_list_comp)\n"
   ]
  },
  {
   "cell_type": "code",
   "execution_count": 6,
   "id": "7bf89ac0-f99d-46e5-8d57-f89835746583",
   "metadata": {},
   "outputs": [
    {
     "name": "stdout",
     "output_type": "stream",
     "text": [
      "['SYED MANSOOR', 'SYED ATHAR', 'SYED TAZIM', 'SYED FAISAL']\n"
     ]
    }
   ],
   "source": [
    "#4\n",
    "\n",
    "names = [\"syed mansoor\",\"syed athar\",\"syed tazim\",\"syed faisal\"]\n",
    "uppercase_names = map(str.upper, names)\n",
    "result_uppercase = list(uppercase_names)\n",
    "\n",
    "print(result_uppercase)\n"
   ]
  },
  {
   "cell_type": "code",
   "execution_count": 7,
   "id": "7253cbab-4d7c-46c2-b49a-adbaf547e9da",
   "metadata": {},
   "outputs": [
    {
     "name": "stdout",
     "output_type": "stream",
     "text": [
      "[5, 6, 6]\n"
     ]
    }
   ],
   "source": [
    "#5\n",
    "\n",
    "words_list = [\"apple\", \"banana\", \"orange\"]\n",
    "word_lengths = map(len, words_list)\n",
    "result_lengths = list(word_lengths)\n",
    "\n",
    "print(result_lengths)\n"
   ]
  },
  {
   "cell_type": "code",
   "execution_count": 8,
   "id": "a9ca4455-4506-4a7a-8fa1-61bdccd20818",
   "metadata": {},
   "outputs": [
    {
     "name": "stdout",
     "output_type": "stream",
     "text": [
      "[5, 7, 9]\n"
     ]
    }
   ],
   "source": [
    "#6\n",
    "\n",
    "def add_lists(a, b):\n",
    "    return a + b\n",
    "\n",
    "list_a = [1, 2, 3]\n",
    "list_b = [4, 5, 6]\n",
    "\n",
    "result = map(add_lists, list_a, list_b)\n",
    "result_list = list(result)\n",
    "\n",
    "print(result_list)\n"
   ]
  },
  {
   "cell_type": "code",
   "execution_count": 10,
   "id": "74c6d377-aad2-4608-b4bd-210f10292233",
   "metadata": {},
   "outputs": [
    {
     "name": "stdout",
     "output_type": "stream",
     "text": [
      "[140.0]\n"
     ]
    }
   ],
   "source": [
    "#7\n",
    "def celsius_to_fahrenheit(celsius):\n",
    "    return (celsius * 9/5) + 32\n",
    "\n",
    "celsius_temperatures = [60]\n",
    "fahrenheit_temperatures = map(celsius_to_fahrenheit, celsius_temperatures)\n",
    "result_fahrenheit = list(fahrenheit_temperatures)\n",
    "\n",
    "print(result_fahrenheit)\n"
   ]
  },
  {
   "cell_type": "code",
   "execution_count": 11,
   "id": "022a91f1-9b70-485d-a8d7-a946cbc15673",
   "metadata": {},
   "outputs": [
    {
     "name": "stdout",
     "output_type": "stream",
     "text": [
      "[2, 3, 3, 5, 5]\n"
     ]
    }
   ],
   "source": [
    "#8\n",
    "float_numbers = [1.5, 2.7, 3.4, 4.8, 5.2]\n",
    "rounded_numbers = map(round, float_numbers)\n",
    "result_rounded = list(rounded_numbers)\n",
    "\n",
    "print(result_rounded)\n"
   ]
  },
  {
   "cell_type": "markdown",
   "id": "f14394df-d912-448e-83d5-2bf4f1f5c086",
   "metadata": {},
   "source": [
    "reduce :-"
   ]
  },
  {
   "cell_type": "code",
   "execution_count": 12,
   "id": "f663ab4f-14b6-4329-9212-9b13fd7c5d8d",
   "metadata": {},
   "outputs": [
    {
     "name": "stdout",
     "output_type": "stream",
     "text": [
      "15\n"
     ]
    }
   ],
   "source": [
    "#1\n",
    "#The reduce() function is part of the functools module in Python. It is used to successively apply a binary function to the items of an iterable, reducing the iterable to a single accumulated result. The basic syntax is functools.reduce(function, iterable, [initializer]).\n",
    "from functools import reduce\n",
    "numbers = [1, 2, 3, 4, 5]\n",
    "sum_result = reduce(lambda x, y: x + y, numbers)\n",
    "print(sum_result)\n"
   ]
  },
  {
   "cell_type": "code",
   "execution_count": 13,
   "id": "63742b05-c5a6-46b3-8594-37a4797f7ec7",
   "metadata": {},
   "outputs": [
    {
     "name": "stdout",
     "output_type": "stream",
     "text": [
      "120\n"
     ]
    }
   ],
   "source": [
    "#2\n",
    "from functools import reduce\n",
    "numbers = [2, 3, 4, 5]\n",
    "\n",
    "product_result = reduce(lambda x, y: x * y, numbers)\n",
    "print(product_result)\n",
    "\n"
   ]
  },
  {
   "cell_type": "code",
   "execution_count": 14,
   "id": "6f002425-bd84-4b14-8b2f-b8f76e35347a",
   "metadata": {},
   "outputs": [
    {
     "name": "stdout",
     "output_type": "stream",
     "text": [
      "10\n"
     ]
    }
   ],
   "source": [
    "#3\n",
    "from functools import reduce\n",
    "\n",
    "numbers = [8, 2, 6, 4, 10]\n",
    "\n",
    "max_result = reduce(lambda x, y: x if x > y else y, numbers)\n",
    "print(max_result)\n"
   ]
  },
  {
   "cell_type": "code",
   "execution_count": 15,
   "id": "3e96a2a4-9efd-443b-ab66-3bfb621a6107",
   "metadata": {},
   "outputs": [
    {
     "name": "stdout",
     "output_type": "stream",
     "text": [
      "Hello World!\n"
     ]
    }
   ],
   "source": [
    "#4\n",
    "from functools import reduce\n",
    "strings = [\"Hello\", \" \", \"World\", \"!\"]\n",
    "\n",
    "concatenated_result = reduce(lambda x, y: x + y, strings)\n",
    "print(concatenated_result)\n"
   ]
  },
  {
   "cell_type": "code",
   "execution_count": 16,
   "id": "1a9f512f-bfc1-4cc9-a8ec-32fad1406425",
   "metadata": {},
   "outputs": [
    {
     "name": "stdout",
     "output_type": "stream",
     "text": [
      "120\n"
     ]
    }
   ],
   "source": [
    "#5\n",
    "from functools import reduce\n",
    "n=5\n",
    "\n",
    "factorial_result = reduce(lambda x, y: x * y, range(1, n + 1), 1)\n",
    "print(factorial_result)\n"
   ]
  },
  {
   "cell_type": "code",
   "execution_count": 17,
   "id": "5e047471-639a-4113-9d47-445fef9d274f",
   "metadata": {},
   "outputs": [
    {
     "name": "stdout",
     "output_type": "stream",
     "text": [
      "12\n"
     ]
    }
   ],
   "source": [
    "#6\n",
    "from functools import reduce\n",
    "from math import gcd\n",
    "numbers = [24, 36, 48]\n",
    "\n",
    "gcd_result = reduce(gcd, numbers)\n",
    "print(gcd_result)\n"
   ]
  },
  {
   "cell_type": "code",
   "execution_count": 18,
   "id": "ead5c608-76c6-4fc3-bcf9-a9e9c6ce8669",
   "metadata": {},
   "outputs": [
    {
     "name": "stdout",
     "output_type": "stream",
     "text": [
      "15\n"
     ]
    }
   ],
   "source": [
    "#7\n",
    "from functools import reduce\n",
    "number = 12345\n",
    "\n",
    "sum_of_digits = reduce(lambda x, y: int(x) + int(y), str(number))\n",
    "print(sum_of_digits)\n"
   ]
  },
  {
   "cell_type": "markdown",
   "id": "07a26eb6-9ed4-471b-b471-b4767cf930db",
   "metadata": {},
   "source": [
    "## recursion\n"
   ]
  },
  {
   "cell_type": "code",
   "execution_count": 109,
   "id": "8c9c5975-e0bf-4eaf-8907-2a8ad8747f9d",
   "metadata": {},
   "outputs": [
    {
     "data": {
      "text/plain": [
       "\"Recursion is a programming concept where a function calls itself in its own definition. In Python, a recursive function is a function that calls itself to solve a smaller instance of the same problem. Each recursive call works on a smaller subset of the problem until a base case is reached, at which point the function stops calling itself.\\n\\nDifferences from Iteration:\\nFlow of Control:\\n\\nIn recursion, the flow of control is handled by the function calling itself.\\nIn iteration, the flow of control is managed by loops (for, while) without calling the function itself.\\nMemory Usage:\\n\\nRecursion can use more memory due to the function call stack.\\nIteration generally uses less memory as it doesn't involve multiple function calls.\\nReadability:\\n\\nRecursion can make the code more readable for certain problems.\\nIteration can be more straightforward and familiar for some programmers.\""
      ]
     },
     "execution_count": 109,
     "metadata": {},
     "output_type": "execute_result"
    }
   ],
   "source": [
    "#1\n",
    "\"\"\"Recursion is a programming concept where a function calls itself in its own definition. In Python, a recursive function is a function that calls itself to solve a smaller instance of the same problem. Each recursive call works on a smaller subset of the problem until a base case is reached, at which point the function stops calling itself.\n",
    "\n",
    "Differences from Iteration:\n",
    "Flow of Control:\n",
    "\n",
    "In recursion, the flow of control is handled by the function calling itself.\n",
    "In iteration, the flow of control is managed by loops (for, while) without calling the function itself.\n",
    "Memory Usage:\n",
    "\n",
    "Recursion can use more memory due to the function call stack.\n",
    "Iteration generally uses less memory as it doesn't involve multiple function calls.\n",
    "Readability:\n",
    "\n",
    "Recursion can make the code more readable for certain problems.\n",
    "Iteration can be more straightforward and familiar for some programmers.\"\"\""
   ]
  },
  {
   "cell_type": "code",
   "execution_count": 110,
   "id": "d15a0efb-60a8-4d6e-a237-a7e4b9848c0b",
   "metadata": {},
   "outputs": [
    {
     "name": "stdin",
     "output_type": "stream",
     "text": [
      "Enter a number:  5\n"
     ]
    },
    {
     "name": "stdout",
     "output_type": "stream",
     "text": [
      "The factorial of 5 is: 120\n"
     ]
    }
   ],
   "source": [
    "#2\n",
    "def factorial(n):\n",
    "    if n == 0 or n == 1:\n",
    "        return 1\n",
    "    else:\n",
    "        return n * factorial(n-1)\n",
    "number = int(input(\"Enter a number: \"))\n",
    "result = factorial(number)\n",
    "print(f\"The factorial of {number} is: {result}\")\n"
   ]
  },
  {
   "cell_type": "code",
   "execution_count": 112,
   "id": "fa3ef690-0b0b-4153-957e-767b00d1d638",
   "metadata": {},
   "outputs": [
    {
     "name": "stdin",
     "output_type": "stream",
     "text": [
      "Enter the term number for Fibonacci:  10\n"
     ]
    },
    {
     "name": "stdout",
     "output_type": "stream",
     "text": [
      "The 10th Fibonacci number is: 55\n"
     ]
    }
   ],
   "source": [
    "#3\n",
    "def fibonacci(n):\n",
    "    if n <= 1:\n",
    "        return n\n",
    "    else:\n",
    "        return fibonacci(n-1) + fibonacci(n-2)\n",
    "term = int(input(\"Enter the term number for Fibonacci: \"))\n",
    "result = fibonacci(term)\n",
    "print(f\"The {term}th Fibonacci number is: {result}\")\n"
   ]
  },
  {
   "cell_type": "code",
   "execution_count": 113,
   "id": "cf22eceb-2627-4c34-9799-dd3fcc26da62",
   "metadata": {},
   "outputs": [
    {
     "name": "stdout",
     "output_type": "stream",
     "text": [
      "The sum of elements in the list is: 15\n"
     ]
    }
   ],
   "source": [
    "#4\n",
    "def recursive_sum(input_list):\n",
    "    if not input_list:\n",
    "        return 0\n",
    "    else:\n",
    "        return input_list[0] + recursive_sum(input_list[1:])\n",
    "numbers = [1, 2, 3, 4, 5]\n",
    "result = recursive_sum(numbers)\n",
    "print(f\"The sum of elements in the list is: {result}\")\n"
   ]
  },
  {
   "cell_type": "code",
   "execution_count": 114,
   "id": "2010868d-46bc-4092-9e9d-b7d082204468",
   "metadata": {},
   "outputs": [
    {
     "data": {
      "text/plain": [
       "'To prevent infinite recursion, ensure that your recursive function has a base case that will be reached eventually. Without a base case, the function will keep calling itself indefinitely, leading to a stack overflow error.'"
      ]
     },
     "execution_count": 114,
     "metadata": {},
     "output_type": "execute_result"
    }
   ],
   "source": [
    "#5\n",
    "\"\"\"To prevent infinite recursion, ensure that your recursive function has a base case that will be reached eventually. Without a base case, the function will keep calling itself indefinitely, leading to a stack overflow error.\"\"\""
   ]
  },
  {
   "cell_type": "code",
   "execution_count": 115,
   "id": "f88a985e-85de-416a-9481-b66f1ed4af6c",
   "metadata": {},
   "outputs": [
    {
     "name": "stdin",
     "output_type": "stream",
     "text": [
      "Enter the first number:  21\n",
      "Enter the second number:  23\n"
     ]
    },
    {
     "name": "stdout",
     "output_type": "stream",
     "text": [
      "The GCD of 21 and 23 is: 1\n"
     ]
    }
   ],
   "source": [
    "#6\n",
    "def euclidean_gcd(a, b):\n",
    "    if b == 0:\n",
    "        return a\n",
    "    else:\n",
    "        return euclidean_gcd(b, a % b)\n",
    "num1 = int(input(\"Enter the first number: \"))\n",
    "num2 = int(input(\"Enter the second number: \"))\n",
    "result = euclidean_gcd(num1, num2)\n",
    "print(f\"The GCD of {num1} and {num2} is: {result}\")\n"
   ]
  },
  {
   "cell_type": "code",
   "execution_count": 116,
   "id": "0639277c-0500-484b-8c02-887d3b1a84b8",
   "metadata": {},
   "outputs": [
    {
     "name": "stdin",
     "output_type": "stream",
     "text": [
      "Enter a string:  pwskills\n"
     ]
    },
    {
     "name": "stdout",
     "output_type": "stream",
     "text": [
      "The reversed string is: sllikswp\n"
     ]
    }
   ],
   "source": [
    "#7\n",
    "def reverse_string(s):\n",
    "    if len(s) == 0:\n",
    "        return s\n",
    "    else:\n",
    "        return reverse_string(s[1:]) + s[0]\n",
    "input_str = input(\"Enter a string: \")\n",
    "result = reverse_string(input_str)\n",
    "print(f\"The reversed string is: {result}\")\n"
   ]
  },
  {
   "cell_type": "code",
   "execution_count": 118,
   "id": "bc6eff8f-1eda-4d9d-9d15-bdf59f5a3bc3",
   "metadata": {},
   "outputs": [
    {
     "name": "stdin",
     "output_type": "stream",
     "text": [
      "Enter the base:  4\n",
      "Enter the exponent:  2\n"
     ]
    },
    {
     "name": "stdout",
     "output_type": "stream",
     "text": [
      "4.0 raised to the power 2 is: 16.0\n"
     ]
    }
   ],
   "source": [
    "#8\n",
    "def power(x, n):\n",
    "    if n == 0:\n",
    "        return 1\n",
    "    else:\n",
    "        return x * power(x, n-1)\n",
    "base = float(input(\"Enter the base: \"))\n",
    "exponent = int(input(\"Enter the exponent: \"))\n",
    "result = power(base, exponent)\n",
    "print(f\"{base} raised to the power {exponent} is: {result}\")\n"
   ]
  },
  {
   "cell_type": "code",
   "execution_count": null,
   "id": "47f8623b-efba-497d-9fdd-99e09e557c79",
   "metadata": {},
   "outputs": [
    {
     "name": "stdin",
     "output_type": "stream",
     "text": [
      "Enter a string:  wolcome to kashmir\n"
     ]
    }
   ],
   "source": [
    "#9\n",
    "def permutations(s):\n",
    "    if len(s) == 1:\n",
    "        return [s]\n",
    "    else:\n",
    "        perms = []\n",
    "        for char in s:\n",
    "            remaining_chars = [x for x in s if x != char]\n",
    "            for perm in permutations(remaining_chars):\n",
    "                perms.append([char] + perm)\n",
    "        return perms\n",
    "input_str = input(\"Enter a string: \")\n",
    "result = [''.join(p) for p in permutations(input_str)]\n",
    "print(f\"All permutations of the string are: {result}\")\n"
   ]
  },
  {
   "cell_type": "code",
   "execution_count": null,
   "id": "f209a3ff-4e64-4ec9-ac16-dd975adfade8",
   "metadata": {},
   "outputs": [],
   "source": [
    "#10\n",
    "def is_palindrome(s):\n",
    "    s = s.lower()\n",
    "    if len(s) <= 1:\n",
    "        return True\n",
    "    elif s[0] != s[-1]:\n",
    "        return False\n",
    "    else:\n",
    "        return is_palindrome(s[1:-1])\n",
    "input_str = input(\"Enter a string: \")\n",
    "if is_palindrome(input_str):\n",
    "    print(f\"{input_str} is a palindrome.\")\n",
    "else:\n",
    "    print(f\"{input_str} is not a palindrome.\")\n"
   ]
  },
  {
   "cell_type": "code",
   "execution_count": null,
   "id": "8853772d-0f21-43e8-9b5a-0ba24d070b88",
   "metadata": {},
   "outputs": [],
   "source": []
  },
  {
   "cell_type": "markdown",
   "id": "f4a13083-03ba-416d-9b88-7fc8fcd5cf75",
   "metadata": {},
   "source": [
    "## filter:-"
   ]
  },
  {
   "cell_type": "code",
   "execution_count": 19,
   "id": "cea9a48b-7d46-4686-a608-b9bb349a6452",
   "metadata": {},
   "outputs": [
    {
     "name": "stdout",
     "output_type": "stream",
     "text": [
      "[2, 4, 6, 8]\n"
     ]
    }
   ],
   "source": [
    "#1\n",
    "#The filter() function in Python is used to construct an iterator from elements of an iterable for which a function returns true. It filters out elements based on a specified condition.\n",
    "#eg\n",
    "numbers = [1, 2, 3, 4, 5, 6, 7, 8, 9]\n",
    "\n",
    "even_numbers = filter(lambda x: x % 2 == 0, numbers)\n",
    "result = list(even_numbers)\n",
    "\n",
    "print(result)\n"
   ]
  },
  {
   "cell_type": "code",
   "execution_count": 20,
   "id": "6edaa7be-6407-4683-a532-b866145b6bde",
   "metadata": {},
   "outputs": [
    {
     "name": "stdout",
     "output_type": "stream",
     "text": [
      "[2, 4, 6, 8]\n"
     ]
    }
   ],
   "source": [
    "#2\n",
    "numbers = [1, 2, 3, 4, 5, 6, 7, 8, 9]\n",
    "\n",
    "even_numbers = filter(lambda x: x % 2 == 0, numbers)\n",
    "result = list(even_numbers)\n",
    "\n",
    "print(result)\n"
   ]
  },
  {
   "cell_type": "code",
   "execution_count": 22,
   "id": "6ae7a713-ee39-43ba-b602-e73df4a54d08",
   "metadata": {},
   "outputs": [
    {
     "name": "stdout",
     "output_type": "stream",
     "text": [
      "['junaid']\n"
     ]
    }
   ],
   "source": [
    "#3\n",
    "names = [\"akash\",\"mansoor\",\"bintul\",\"aazaad\",\"junaid\"]\n",
    "\n",
    "selected_names = filter(lambda x: x.startswith('j'), names)\n",
    "result = list(selected_names)\n",
    "\n",
    "print(result)\n"
   ]
  },
  {
   "cell_type": "code",
   "execution_count": 23,
   "id": "cf8e1ba2-a234-4249-b370-4d2d7f60be2f",
   "metadata": {},
   "outputs": [
    {
     "name": "stdout",
     "output_type": "stream",
     "text": [
      "[2, 3, 5, 7]\n"
     ]
    }
   ],
   "source": [
    "#4\n",
    "def is_prime(n):\n",
    "    if n < 2:\n",
    "        return False\n",
    "    for i in range(2, int(n**0.5) + 1):\n",
    "        if n % i == 0:\n",
    "            return False\n",
    "    return True\n",
    "\n",
    "numbers = [2, 3, 4, 5, 6, 7, 8, 9, 10]\n",
    "\n",
    "prime_numbers = filter(is_prime, numbers)\n",
    "result = list(prime_numbers)\n",
    "\n",
    "print(result)\n"
   ]
  },
  {
   "cell_type": "code",
   "execution_count": 24,
   "id": "d75c78ab-bbac-42a7-9f66-bb6142704d0a",
   "metadata": {},
   "outputs": [
    {
     "name": "stdout",
     "output_type": "stream",
     "text": [
      "[1, 2, 3, 4, 5]\n"
     ]
    }
   ],
   "source": [
    "#5\n",
    "values = [1, None, 2, None, 3, 4, None, 5]\n",
    "\n",
    "filtered_values = filter(lambda x: x is not None, values)\n",
    "result = list(filtered_values)\n",
    "\n",
    "print(result)\n"
   ]
  },
  {
   "cell_type": "code",
   "execution_count": 25,
   "id": "8b02a706-1268-41f4-bec5-a65e568e5923",
   "metadata": {},
   "outputs": [
    {
     "name": "stdout",
     "output_type": "stream",
     "text": [
      "['banana', 'orange']\n"
     ]
    }
   ],
   "source": [
    "#6\n",
    "words = [\"apple\", \"banana\", \"kiwi\", \"orange\", \"grape\"]\n",
    "\n",
    "selected_words = filter(lambda x: len(x) > 5, words)\n",
    "result = list(selected_words)\n",
    "\n",
    "print(result)\n",
    "\n"
   ]
  },
  {
   "cell_type": "code",
   "execution_count": 26,
   "id": "4777e92c-2469-4bb8-b7fa-20a69219b53a",
   "metadata": {},
   "outputs": [
    {
     "name": "stdout",
     "output_type": "stream",
     "text": [
      "[30, 35]\n"
     ]
    }
   ],
   "source": [
    "#7\n",
    "values = [10, 15, 20, 25, 30, 35]\n",
    "\n",
    "threshold = 25\n",
    "\n",
    "selected_values = filter(lambda x: x > threshold, values)\n",
    "result = list(selected_values)\n",
    "\n",
    "print(result)\n",
    "\n"
   ]
  },
  {
   "cell_type": "markdown",
   "id": "246a2967-18b9-4915-8b7e-d3e1077718b2",
   "metadata": {},
   "source": [
    "## basic of function"
   ]
  },
  {
   "cell_type": "code",
   "execution_count": null,
   "id": "36d183b4-785f-42bb-a555-dba08f1fe7e6",
   "metadata": {},
   "outputs": [],
   "source": [
    "#1\n",
    "'In Python, a function is a reusable block of code that performs a specific task. Functions help organize code, make it more readable, and allow for code reuse. They enable the decomposition of a program into smaller, manageable pieces, promoting modularity and maintainability.'"
   ]
  },
  {
   "cell_type": "code",
   "execution_count": 27,
   "id": "d674c916-e185-4989-abef-022f5562e84f",
   "metadata": {},
   "outputs": [
    {
     "name": "stdout",
     "output_type": "stream",
     "text": [
      "Hello, Akash!\n"
     ]
    }
   ],
   "source": [
    "#2\n",
    "\"\"\"in Python, a function is defined using the def keyword, followed by the function name, parameters in parentheses, and a colon. The function body is indented.\"\"\"\n",
    "# example\n",
    "def greet(name):\n",
    "    print(\"Hello, \" + name + \"!\")\n",
    "\n",
    "\n",
    "greet(\"Akash\")\n",
    "\n"
   ]
  },
  {
   "cell_type": "code",
   "execution_count": null,
   "id": "697cd6da-117d-490a-ac09-b179658f297f",
   "metadata": {},
   "outputs": [],
   "source": [
    "#3\n",
    "'Function Definition: This is where you declare the function and specify what it does. It includes the def keyword, function name, parameters, and the code block.'\n",
    "\n",
    "'Function Call: This is when you execute or invoke the function, providing the necessary arguments. It includes the function name followed by parentheses containing the arguments.'"
   ]
  },
  {
   "cell_type": "code",
   "execution_count": 28,
   "id": "b256335e-aca7-4cf3-b83d-4bedaa198c51",
   "metadata": {},
   "outputs": [
    {
     "name": "stdout",
     "output_type": "stream",
     "text": [
      "30\n"
     ]
    }
   ],
   "source": [
    "#4\n",
    "\n",
    "def calculate_sum(x, y):\n",
    "    return x + y\n",
    "\n",
    "# Function call\n",
    "result = calculate_sum(10, 20)\n",
    "print( result)\n"
   ]
  },
  {
   "cell_type": "code",
   "execution_count": null,
   "id": "c6808125-bd02-4ded-9dfe-8f4c5dea3ffd",
   "metadata": {},
   "outputs": [],
   "source": [
    "#5\n",
    "\"A function signature typically includes the function name, parameters, and the return type. It provides a concise summary of the function's interface. For example, in the function def add(a, b):, the signature includes the function name (add) and its parameters (a and b).\""
   ]
  },
  {
   "cell_type": "code",
   "execution_count": 29,
   "id": "26c93607-9b65-4869-9472-3077edca7734",
   "metadata": {},
   "outputs": [
    {
     "name": "stdout",
     "output_type": "stream",
     "text": [
      "40\n"
     ]
    }
   ],
   "source": [
    "#6\n",
    "def calculate_product(x, y):\n",
    "    return x * y\n",
    "\n",
    "result = calculate_product(5, 8)\n",
    "print(result)\n"
   ]
  },
  {
   "cell_type": "markdown",
   "id": "75a4c8ad-195f-423e-8133-1972c70a21ea",
   "metadata": {},
   "source": [
    "## function parameters and arguments"
   ]
  },
  {
   "cell_type": "code",
   "execution_count": 30,
   "id": "403ac16a-1194-47df-a055-a2e9a1627146",
   "metadata": {},
   "outputs": [],
   "source": [
    "#1\n",
    "\"\"\"Formal Parameters: These are placeholders in the function definition that represent the values the function expects. They are the names used in the function definition.\n",
    "\n",
    "Actual Arguments: These are the values that are passed to the function during a function call. They are the concrete values that replace the formal parameters in the function execution.\"\"\"\n",
    "#example----\n",
    "#formal parameters in the function\n",
    "def add_numbers(x, y):\n",
    "    return x + y\n",
    "\n",
    "# Actual arguments in the function call\n",
    "result = add_numbers(3, 5)\n"
   ]
  },
  {
   "cell_type": "code",
   "execution_count": 31,
   "id": "d7416737-bb52-44db-ae5e-0082ecc5ee22",
   "metadata": {},
   "outputs": [
    {
     "name": "stdout",
     "output_type": "stream",
     "text": [
      "Hello, Akash!\n",
      "Hi, mansoor!\n"
     ]
    }
   ],
   "source": [
    "#2\n",
    "def greet(name, greeting=\"Hello\"):\n",
    "    print(greeting + \", \" + name + \"!\")\n",
    "\n",
    "# Function calls\n",
    "greet(\"Akash\")              # Uses default greeting\n",
    "greet(\"mansoor\", greeting=\"Hi\") # Uses specified greeting\n"
   ]
  },
  {
   "cell_type": "code",
   "execution_count": 32,
   "id": "8df727fe-9f75-4e3a-b167-528d460053c6",
   "metadata": {},
   "outputs": [
    {
     "name": "stdout",
     "output_type": "stream",
     "text": [
      "8\n"
     ]
    }
   ],
   "source": [
    "#3\n",
    "'In Python, you can use keyword arguments to pass values to a function by explicitly specifying the parameter names.'\n",
    "def calculate_power(base, exponent):\n",
    "    return base ** exponent\n",
    "result = calculate_power(base=2, exponent=3)\n",
    "print(result)\n"
   ]
  },
  {
   "cell_type": "code",
   "execution_count": 33,
   "id": "8c56e378-dc01-4930-b47b-9453c2b07927",
   "metadata": {},
   "outputs": [
    {
     "name": "stdout",
     "output_type": "stream",
     "text": [
      "6\n",
      "22\n"
     ]
    }
   ],
   "source": [
    "#4\\\n",
    "def calculate_sum(*args):\n",
    "    return sum(args)\n",
    "result1 = calculate_sum(1, 2, 3)\n",
    "result2 = calculate_sum(4, 5, 6, 7)\n",
    "\n",
    "print(result1)\n",
    "print(result2)\n"
   ]
  },
  {
   "cell_type": "code",
   "execution_count": 34,
   "id": "1d154dc3-2a52-49f4-8818-42b9c42627b4",
   "metadata": {},
   "outputs": [
    {
     "data": {
      "text/plain": [
       "'*args: It allows a function to accept a variable number of positional arguments. The *args syntax in the function definition collects all extra positional arguments into a tuple.\\n\\n**kwargs: It allows a function to accept a variable number of keyword arguments. The **kwargs syntax in the function definition collects all extra keyword arguments into a dictionary.'"
      ]
     },
     "execution_count": 34,
     "metadata": {},
     "output_type": "execute_result"
    }
   ],
   "source": [
    "#5\n",
    "\"\"\"*args: It allows a function to accept a variable number of positional arguments. The *args syntax in the function definition collects all extra positional arguments into a tuple.\n",
    "\n",
    "**kwargs: It allows a function to accept a variable number of keyword arguments. The **kwargs syntax in the function definition collects all extra keyword arguments into a dictionary.\"\"\"\n",
    "\n"
   ]
  },
  {
   "cell_type": "markdown",
   "id": "52ea983d-959f-40e6-8073-1d0f55a0ed1d",
   "metadata": {},
   "source": [
    "## return values and scoping\n"
   ]
  },
  {
   "cell_type": "code",
   "execution_count": 35,
   "id": "b4457c70-86b8-4baf-8ebc-bc767538eb69",
   "metadata": {},
   "outputs": [
    {
     "data": {
      "text/plain": [
       "\"The return statement in Python is used to exit a function and return a value to the caller. It terminates the function's execution and sends the specified value back to the point where the function was called.\""
      ]
     },
     "execution_count": 35,
     "metadata": {},
     "output_type": "execute_result"
    }
   ],
   "source": [
    "#1\n",
    "\"The return statement in Python is used to exit a function and return a value to the caller. It terminates the function's execution and sends the specified value back to the point where the function was called.\""
   ]
  },
  {
   "cell_type": "code",
   "execution_count": 36,
   "id": "0c214018-757f-46fd-8830-7db6d5eb1370",
   "metadata": {},
   "outputs": [
    {
     "data": {
      "text/plain": [
       "'Local Variables: Variables defined inside a function are considered local to that function. They exist only within the function and are not accessible outside of it.\\n\\nGlobal Variables: Variables defined outside any function are considered global. They are accessible from any part of the code, including inside functions.'"
      ]
     },
     "execution_count": 36,
     "metadata": {},
     "output_type": "execute_result"
    }
   ],
   "source": [
    "#2\n",
    "\"\"\"Local Variables: Variables defined inside a function are considered local to that function. They exist only within the function and are not accessible outside of it.\n",
    "\n",
    "Global Variables: Variables defined outside any function are considered global. They are accessible from any part of the code, including inside functions.\"\"\""
   ]
  },
  {
   "cell_type": "code",
   "execution_count": 37,
   "id": "874f7d16-8b92-4175-b3f9-4f9a5308a2bd",
   "metadata": {},
   "outputs": [
    {
     "name": "stdout",
     "output_type": "stream",
     "text": [
      "Inside function: 10\n",
      "Outside function: 10\n"
     ]
    }
   ],
   "source": [
    "#3\n",
    "# Global variable\n",
    "global_variable = 10\n",
    "def use_global_variable():\n",
    "    print(\"Inside function:\", global_variable)\n",
    "use_global_variable()\n",
    "\n",
    "print(\"Outside function:\", global_variable)\n"
   ]
  },
  {
   "cell_type": "code",
   "execution_count": 38,
   "id": "38bf42c1-bbde-40a4-8951-e38a652eeab5",
   "metadata": {},
   "outputs": [
    {
     "name": "stdout",
     "output_type": "stream",
     "text": [
      "120\n"
     ]
    }
   ],
   "source": [
    "#4\n",
    "def calculate_factorial(n):\n",
    "    if n == 0 or n == 1:\n",
    "        return 1\n",
    "    else:\n",
    "        return n * calculate_factorial(n - 1)\n",
    "result = calculate_factorial(5)\n",
    "print(result)\n"
   ]
  },
  {
   "cell_type": "code",
   "execution_count": 39,
   "id": "5fb0f62d-a4b0-457c-bd05-d1e765c6087c",
   "metadata": {},
   "outputs": [
    {
     "data": {
      "text/plain": [
       "\"Variables defined outside a function are accessible from within the function. However, if a variable with the same name is defined inside the function, it will overshadow the global variable within the function's scope.\""
      ]
     },
     "execution_count": 39,
     "metadata": {},
     "output_type": "execute_result"
    }
   ],
   "source": [
    "#5\n",
    "\"Variables defined outside a function are accessible from within the function. However, if a variable with the same name is defined inside the function, it will overshadow the global variable within the function's scope.\"\n"
   ]
  },
  {
   "cell_type": "markdown",
   "id": "b28d5ef5-c40b-4964-a9cd-ca13cd1e5227",
   "metadata": {},
   "source": [
    "## lambda functions and higher order functions"
   ]
  },
  {
   "cell_type": "code",
   "execution_count": 40,
   "id": "a39a436c-0dc5-4dc9-8cbf-acbae33d6f27",
   "metadata": {},
   "outputs": [
    {
     "data": {
      "text/plain": [
       "'Lambda functions, also known as anonymous functions, are small, unnamed functions defined using the lambda keyword. They are typically used for short-term operations where a full function definition would be overly verbose. Lambda functions are often employed in situations where functions are used as arguments to higher-order functions'"
      ]
     },
     "execution_count": 40,
     "metadata": {},
     "output_type": "execute_result"
    }
   ],
   "source": [
    "#1\n",
    "\"Lambda functions, also known as anonymous functions, are small, unnamed functions defined using the lambda keyword. They are typically used for short-term operations where a full function definition would be overly verbose. Lambda functions are often employed in situations where functions are used as arguments to higher-order functions\""
   ]
  },
  {
   "cell_type": "code",
   "execution_count": 41,
   "id": "a44cfd46-5ad0-47f8-bef9-6dc322449be5",
   "metadata": {},
   "outputs": [
    {
     "name": "stdout",
     "output_type": "stream",
     "text": [
      "[(2, 2), (1, 4), (4, 5), (3, 8)]\n"
     ]
    }
   ],
   "source": [
    "#2\n",
    "tuples_list = [(1, 4), (2, 2), (3, 8), (4, 5)]\n",
    "\n",
    "sorted_list = sorted(tuples_list, key=lambda x: x[1])\n",
    "\n",
    "print(sorted_list)\n"
   ]
  },
  {
   "cell_type": "code",
   "execution_count": 43,
   "id": "7ec8bfe0-8df0-4625-812b-469a8cd58fe2",
   "metadata": {},
   "outputs": [
    {
     "name": "stdout",
     "output_type": "stream",
     "text": [
      "Addition Result: 8\n",
      "Multiplication Result: 15\n"
     ]
    }
   ],
   "source": [
    "#3\n",
    "\"Higher-order functions are functions that take one or more functions as arguments or return a function as their result. In Python, functions are first-class citizens, allowing them to be passed around and manipulated like any other object.\"\n",
    "# Higher-order function example\n",
    "def apply_operation(operation, x, y):\n",
    "    return operation(x, y)\n",
    "def add(x, y):\n",
    "    return x + y\n",
    "\n",
    "def multiply(x, y):\n",
    "    return x * y\n",
    "result_add = apply_operation(add, 3, 5)\n",
    "result_multiply = apply_operation(multiply, 3, 5)\n",
    "\n",
    "print(\"Addition Result:\", result_add)\n",
    "print(\"Multiplication Result:\", result_multiply)\n"
   ]
  },
  {
   "cell_type": "code",
   "execution_count": null,
   "id": "f64748d6-e64e-48a0-81b6-79cb7a08183b",
   "metadata": {},
   "outputs": [],
   "source": [
    "#4\n",
    "def process_numbers(numbers, operation):\n",
    "    result = [operation(x) for x in numbers]\n",
    "    return result\n",
    "\n",
    "square = lambda x: x**2\n",
    "double = lambda x: x * 2\n",
    "\n",
    "numbers_list = [1, 2, 3, 4, 5]\n",
    "\n",
    "squared_numbers = process_numbers(numbers_list, square)\n",
    "doubled_numbers = process_numbers(numbers_list, double)\n",
    "print(\"Original Numbers:\", numbers_list)\n",
    "print(\"Squared Numbers:\", squared_numbers)\n",
    "print(\"Doubled Numbers:\", doubled_numbers)\n",
    "def process_numbers(numbers, operation):\n",
    "    result = [operation(x) for x in numbers]\n",
    "    return result\n",
    "square = lambda x: x**2\n",
    "double = lambda x: x * 2\n",
    "numbers_list = [1, 2, 3, 4, 5]\n",
    "squared_numbers = process_numbers(numbers_list, square)\n",
    "doubled_numbers = process_numbers(numbers_list, double)\n",
    "\n",
    "print(\"Original Numbers:\", numbers_list)\n",
    "print(\"Squared Numbers:\", squared_numbers)\n",
    "print(\"Doubled Numbers:\", doubled_numbers)\n"
   ]
  },
  {
   "cell_type": "markdown",
   "id": "b33c8734-207f-4289-bbc3-ed59285aefa4",
   "metadata": {},
   "source": [
    "## built in functions"
   ]
  },
  {
   "cell_type": "code",
   "execution_count": 45,
   "id": "ebf4c15e-fdab-4374-80e9-b7f963c5ee42",
   "metadata": {},
   "outputs": [
    {
     "data": {
      "text/plain": [
       "'Built-in functions in Python are pre-defined functions provided by the language. They serve various purposes, simplifying common tasks and operations. Here are brief descriptions of len(), max(), and min():\\n\\nlen(iterable): Returns the length (the number of items) of an iterable (e.g., string, list, tuple).\\n\\nmax(iterable, *args, key=default, default=None): Returns the maximum item from an iterable or the maximum of two or more arguments.\\n\\nmin(iterable, *args, key=default, default=None): Returns the minimum item from an iterable or the minimum of two or more arguments.'"
      ]
     },
     "execution_count": 45,
     "metadata": {},
     "output_type": "execute_result"
    }
   ],
   "source": [
    "#1\n",
    "\"\"\"Built-in functions in Python are pre-defined functions provided by the language. They serve various purposes, simplifying common tasks and operations. Here are brief descriptions of len(), max(), and min():\n",
    "\n",
    "len(iterable): Returns the length (the number of items) of an iterable (e.g., string, list, tuple).\n",
    "\n",
    "max(iterable, *args, key=default, default=None): Returns the maximum item from an iterable or the maximum of two or more arguments.\n",
    "\n",
    "min(iterable, *args, key=default, default=None): Returns the minimum item from an iterable or the minimum of two or more arguments.\"\"\""
   ]
  },
  {
   "cell_type": "code",
   "execution_count": 46,
   "id": "d5fefdb3-b27c-4b64-b911-b8bc9b4ed628",
   "metadata": {},
   "outputs": [
    {
     "name": "stdout",
     "output_type": "stream",
     "text": [
      "[1, 4, 9, 16, 25]\n"
     ]
    }
   ],
   "source": [
    "#2\n",
    "numbers = [1, 2, 3, 4, 5]\n",
    "squared_numbers = map(lambda x: x**2, numbers)\n",
    "result = list(squared_numbers)\n",
    "\n",
    "print(result)\n"
   ]
  },
  {
   "cell_type": "code",
   "execution_count": 47,
   "id": "69785fb0-67c2-46b8-9ec1-152abf657f9f",
   "metadata": {},
   "outputs": [
    {
     "data": {
      "text/plain": [
       "'The filter() function is used to filter elements from an iterable based on a specified function or condition. It returns an iterator of the elements for which the function returns True'"
      ]
     },
     "execution_count": 47,
     "metadata": {},
     "output_type": "execute_result"
    }
   ],
   "source": [
    "#3\n",
    "\"The filter() function is used to filter elements from an iterable based on a specified function or condition. It returns an iterator of the elements for which the function returns True\""
   ]
  },
  {
   "cell_type": "code",
   "execution_count": 48,
   "id": "ff188fc3-4ded-440a-a2ea-cf10e50bba5c",
   "metadata": {},
   "outputs": [
    {
     "name": "stdout",
     "output_type": "stream",
     "text": [
      "120\n"
     ]
    }
   ],
   "source": [
    "#4\n",
    "from functools import reduce\n",
    "numbers = [2, 3, 4, 5]\n",
    "product_result = reduce(lambda x, y: x * y, numbers)\n",
    "print(product_result)\n"
   ]
  },
  {
   "cell_type": "markdown",
   "id": "323a5c6c-e3ad-45c4-a369-b4ad4062e43a",
   "metadata": {},
   "source": [
    "## Function Documentation and Best Practices:"
   ]
  },
  {
   "cell_type": "code",
   "execution_count": 51,
   "id": "49251ffe-2780-472f-ac91-fe8d8436f3d1",
   "metadata": {},
   "outputs": [
    {
     "data": {
      "text/plain": [
       "'Docstrings (documentation strings) in Python are used to provide documentation or comments about a function, module, class, or method. They serve as a way to describe what the code does, provide information about parameters and return values, and offer usage examples. Docstrings are accessible through the help() function or by using the .__doc__ attribute.Docstrings are enclosed in triple-quotes (single or double) and are placed immediately after the function, module, or class definition.'"
      ]
     },
     "execution_count": 51,
     "metadata": {},
     "output_type": "execute_result"
    }
   ],
   "source": [
    "#1\n",
    "\"\"\"Docstrings (documentation strings) in Python are used to provide documentation or comments about a function, module, class, or method. They serve as a way to describe what the code does, provide information about parameters and return values, and offer usage examples. Docstrings are accessible through the help() function or by using the .__doc__ attribute.Docstrings are enclosed in triple-quotes (single or double) and are placed immediately after the function, module, or class definition.\"\"\""
   ]
  },
  {
   "cell_type": "code",
   "execution_count": 53,
   "id": "9aba20ad-fa15-4261-b25b-9fb570b452e7",
   "metadata": {},
   "outputs": [],
   "source": [
    "#2\n",
    "\"\"\"Naming Conventions:\n",
    "Function Names: Use lowercase letters with words separated by underscores (snake_case). Choose descriptive names that convey the function's purpose\"\"\"\n",
    "def calculate_sum(x, y):\n",
    "    return x + y\n",
    "\"Variable Names: Follow the same convention as function names. Use descriptive names to enhance code readability.\"\n",
    "\"Constants: Use uppercase letters with underscores to separate words (CAPITALIZED_WITH_UNDERSCORES).\"\n",
    "PI = 3.14\n",
    "\"Module Names: Use short, lowercase names. Avoid using underscores.\"\n",
    "import math\n",
    "\"Class Names: Use CamelCase (each word starts with a capital letter) for class names.\"\n",
    "\n",
    "class MyClass:\n",
    "    pass\n",
    "\n"
   ]
  },
  {
   "cell_type": "code",
   "execution_count": null,
   "id": "12b04a6b-0999-4230-bf54-a125aff3bd1a",
   "metadata": {},
   "outputs": [],
   "source": [
    "\n"
   ]
  }
 ],
 "metadata": {
  "kernelspec": {
   "display_name": "Python 3 (ipykernel)",
   "language": "python",
   "name": "python3"
  },
  "language_info": {
   "codemirror_mode": {
    "name": "ipython",
    "version": 3
   },
   "file_extension": ".py",
   "mimetype": "text/x-python",
   "name": "python",
   "nbconvert_exporter": "python",
   "pygments_lexer": "ipython3",
   "version": "3.10.8"
  }
 },
 "nbformat": 4,
 "nbformat_minor": 5
}
